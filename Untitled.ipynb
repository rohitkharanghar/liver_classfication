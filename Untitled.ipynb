{
 "cells": [
  {
   "cell_type": "code",
   "execution_count": 61,
   "metadata": {},
   "outputs": [],
   "source": [
    "import pandas as pd\n",
    "import numpy as np\n",
    "import math\n",
    "from sklearn.ensemble import RandomForestClassifier\n",
    "from sklearn.linear_model import LogisticRegression\n",
    "from sklearn.model_selection import cross_val_score\n",
    "from sklearn.metrics import accuracy_score\n",
    "from sklearn.model_selection import train_test_split\n",
    "from sklearn.preprocessing import normalize\n",
    "from sklearn.decomposition import PCA\n",
    "from sklearn.preprocessing import StandardScaler\n",
    "import matplotlib.pyplot as plt"
   ]
  },
  {
   "cell_type": "code",
   "execution_count": 2,
   "metadata": {},
   "outputs": [],
   "source": [
    "input_file_train = pd.read_csv(\"train-data.csv\");\n",
    "input_file_test = pd.read_csv(\"test-data.csv\");"
   ]
  },
  {
   "cell_type": "code",
   "execution_count": 3,
   "metadata": {},
   "outputs": [],
   "source": [
    "training_input = input_file_train.iloc[:,0:10]  "
   ]
  },
  {
   "cell_type": "code",
   "execution_count": 4,
   "metadata": {},
   "outputs": [],
   "source": [
    "def change_gender_to_class(input):\n",
    "    data_frame_length = len(input)\n",
    "    for index in range(0,data_frame_length):\n",
    "        if input['Gender'][index] == 'Male':\n",
    "            input['Gender'][index] = 1;\n",
    "        else :\n",
    "            input['Gender'][index] = 0;\n",
    "    return input"
   ]
  },
  {
   "cell_type": "code",
   "execution_count": 5,
   "metadata": {},
   "outputs": [
    {
     "name": "stderr",
     "output_type": "stream",
     "text": [
      "/anaconda3/lib/python3.7/site-packages/ipykernel_launcher.py:5: SettingWithCopyWarning: \n",
      "A value is trying to be set on a copy of a slice from a DataFrame\n",
      "\n",
      "See the caveats in the documentation: http://pandas.pydata.org/pandas-docs/stable/indexing.html#indexing-view-versus-copy\n",
      "  \"\"\"\n",
      "/anaconda3/lib/python3.7/site-packages/ipykernel_launcher.py:7: SettingWithCopyWarning: \n",
      "A value is trying to be set on a copy of a slice from a DataFrame\n",
      "\n",
      "See the caveats in the documentation: http://pandas.pydata.org/pandas-docs/stable/indexing.html#indexing-view-versus-copy\n",
      "  import sys\n"
     ]
    }
   ],
   "source": [
    "training_input = change_gender_to_class(training_input)"
   ]
  },
  {
   "cell_type": "code",
   "execution_count": 6,
   "metadata": {},
   "outputs": [
    {
     "name": "stdout",
     "output_type": "stream",
     "text": [
      "['Age', 'Gender', 'Total_Bilirubin', 'Direct_Bilirubin', 'Alkaline_Phosphotase', 'Alamine_Aminotransferase', 'Aspartate_Aminotransferase', 'Total_Protiens', 'Albumin', 'Albumin_and_Globulin_Ratio']\n"
     ]
    }
   ],
   "source": [
    "print(list(training_input.columns.values))"
   ]
  },
  {
   "cell_type": "code",
   "execution_count": 7,
   "metadata": {},
   "outputs": [
    {
     "name": "stderr",
     "output_type": "stream",
     "text": [
      "/anaconda3/lib/python3.7/site-packages/ipykernel_launcher.py:9: SettingWithCopyWarning: \n",
      "A value is trying to be set on a copy of a slice from a DataFrame\n",
      "\n",
      "See the caveats in the documentation: http://pandas.pydata.org/pandas-docs/stable/indexing.html#indexing-view-versus-copy\n",
      "  if __name__ == '__main__':\n",
      "/anaconda3/lib/python3.7/site-packages/ipykernel_launcher.py:10: SettingWithCopyWarning: \n",
      "A value is trying to be set on a copy of a slice from a DataFrame\n",
      "\n",
      "See the caveats in the documentation: http://pandas.pydata.org/pandas-docs/stable/indexing.html#indexing-view-versus-copy\n",
      "  # Remove the CWD from sys.path while we load stuff.\n",
      "/anaconda3/lib/python3.7/site-packages/ipykernel_launcher.py:11: SettingWithCopyWarning: \n",
      "A value is trying to be set on a copy of a slice from a DataFrame\n",
      "\n",
      "See the caveats in the documentation: http://pandas.pydata.org/pandas-docs/stable/indexing.html#indexing-view-versus-copy\n",
      "  # This is added back by InteractiveShellApp.init_path()\n"
     ]
    }
   ],
   "source": [
    "sum = 0;\n",
    "count = 0\n",
    "for i in range(0,468):\n",
    "    x = training_input['Albumin_and_Globulin_Ratio'][i]\n",
    "    if math.isnan(x) != True:\n",
    "        sum = sum + x\n",
    "        count = count + 1\n",
    "        \n",
    "training_input['Albumin_and_Globulin_Ratio'][177] = sum/count\n",
    "training_input['Albumin_and_Globulin_Ratio'][184] = sum/count\n",
    "training_input['Albumin_and_Globulin_Ratio'][422] = sum/count"
   ]
  },
  {
   "cell_type": "code",
   "execution_count": 8,
   "metadata": {},
   "outputs": [],
   "source": [
    "training_output = input_file_train.iloc[:,10:11]"
   ]
  },
  {
   "cell_type": "code",
   "execution_count": 9,
   "metadata": {},
   "outputs": [
    {
     "name": "stderr",
     "output_type": "stream",
     "text": [
      "/anaconda3/lib/python3.7/site-packages/ipykernel_launcher.py:7: SettingWithCopyWarning: \n",
      "A value is trying to be set on a copy of a slice from a DataFrame\n",
      "\n",
      "See the caveats in the documentation: http://pandas.pydata.org/pandas-docs/stable/indexing.html#indexing-view-versus-copy\n",
      "  import sys\n",
      "/anaconda3/lib/python3.7/site-packages/ipykernel_launcher.py:5: SettingWithCopyWarning: \n",
      "A value is trying to be set on a copy of a slice from a DataFrame\n",
      "\n",
      "See the caveats in the documentation: http://pandas.pydata.org/pandas-docs/stable/indexing.html#indexing-view-versus-copy\n",
      "  \"\"\"\n"
     ]
    }
   ],
   "source": [
    "test_input = change_gender_to_class(input_file_test.iloc[:,0:10])"
   ]
  },
  {
   "cell_type": "code",
   "execution_count": 10,
   "metadata": {},
   "outputs": [],
   "source": [
    "test_in = test_input.values"
   ]
  },
  {
   "cell_type": "code",
   "execution_count": 11,
   "metadata": {},
   "outputs": [
    {
     "name": "stdout",
     "output_type": "stream",
     "text": [
      "47\n"
     ]
    }
   ],
   "source": [
    "print(test_in[0][0])"
   ]
  },
  {
   "cell_type": "code",
   "execution_count": 12,
   "metadata": {},
   "outputs": [],
   "source": [
    "for i in range(0,115):\n",
    "    x = test_in[i][9]\n",
    "    if math.isnan(x) != True:\n",
    "        sum = sum + x\n",
    "        count = count + 1\n",
    "\n",
    "test_in[16][9] = sum/count        "
   ]
  },
  {
   "cell_type": "code",
   "execution_count": 13,
   "metadata": {},
   "outputs": [],
   "source": [
    "test_output = input_file_test.iloc[:,10:11]"
   ]
  },
  {
   "cell_type": "code",
   "execution_count": null,
   "metadata": {},
   "outputs": [],
   "source": [
    "X = training_input.values\n",
    "Y = training_output.values"
   ]
  },
  {
   "cell_type": "code",
   "execution_count": null,
   "metadata": {},
   "outputs": [],
   "source": [
    "x_train = StandardScaler().fit_transform(X[:,2:10])\n",
    "print(np.round(x_train.mean(),2))\n",
    "print(np.round(x_train.std(),2))"
   ]
  },
  {
   "cell_type": "code",
   "execution_count": 73,
   "metadata": {},
   "outputs": [
    {
     "name": "stdout",
     "output_type": "stream",
     "text": [
      "[0.33833908 0.23749884 0.16701479 0.11503142 0.08269792 0.03393949\n",
      " 0.01710213 0.00837634]\n"
     ]
    },
    {
     "data": {
      "image/png": "[encoded data removed]",
      "text/plain": [
       "<Figure size 432x288 with 1 Axes>"
      ]
     },
     "metadata": {
      "needs_background": "light"
     },
     "output_type": "display_data"
    }
   ],
   "source": [
    "fit = PCA()\n",
    "pca = fit.fit_transform(x_train)\n",
    "\n",
    "plt.plot(fit.explained_variance_ratio_)\n",
    "print(fit.explained_variance_ratio_)"
   ]
  },
  {
   "cell_type": "code",
   "execution_count": 19,
   "metadata": {},
   "outputs": [],
   "source": [
    "def random_forest(training_input, training_output, testing_input):\n",
    "    clf=RandomForestClassifier(n_estimators=40)\n",
    "    clf.fit(training_input,training_output)\n",
    "    return clf.predict(testing_input)"
   ]
  },
  {
   "cell_type": "code",
   "execution_count": 87,
   "metadata": {},
   "outputs": [],
   "source": [
    "def logistic_regression(training_input, training_output, testing_output):\n",
    "    clf = LogisticRegression(random_state=0, solver='lbfgs',multi_class='ovr').fit(training_input, training_output)\n",
    "    return clf.predict(testing_output)\n",
    "\n",
    "\n",
    "\n",
    "def logistic_regression_1(training_input, training_output, testing_output):\n",
    "    clf = LogisticRegression(random_state=0, solver='liblinear',multi_class='ovr').fit(training_input, training_output)\n",
    "    return clf.predict(testing_output)"
   ]
  },
  {
   "cell_type": "code",
   "execution_count": 38,
   "metadata": {},
   "outputs": [],
   "source": [
    "def normalize_data(X):\n",
    "    X2 = normalize(X[:,2:10], axis=0)\n",
    "    return np.concatenate(( X[:,0:2], X2), axis=1)"
   ]
  },
  {
   "cell_type": "code",
   "execution_count": null,
   "metadata": {},
   "outputs": [],
   "source": [
    "feature_imp = pd.Series(clf.feature_importances_,index=training_input.columns.values)\n",
    "print(feature_imp)"
   ]
  },
  {
   "cell_type": "code",
   "execution_count": 90,
   "metadata": {},
   "outputs": [
    {
     "name": "stderr",
     "output_type": "stream",
     "text": [
      "/anaconda3/lib/python3.7/site-packages/ipykernel_launcher.py:3: DataConversionWarning: A column-vector y was passed when a 1d array was expected. Please change the shape of y to (n_samples,), for example using ravel().\n",
      "  This is separate from the ipykernel package so we can avoid doing imports until\n",
      "/anaconda3/lib/python3.7/site-packages/sklearn/utils/validation.py:578: DataConversionWarning: A column-vector y was passed when a 1d array was expected. Please change the shape of y to (n_samples, ), for example using ravel().\n",
      "  y = column_or_1d(y, warn=True)\n"
     ]
    }
   ],
   "source": [
    "X_train, X_test, y_train, y_test = train_test_split(X, Y, test_size=0.25, random_state=21)\n",
    "\n",
    "y_random_forest = random_forest(X_train,y_train,X_test)\n",
    "y_logistic_regression = logistic_regression(X_train,y_train,X_test)\n"
   ]
  },
  {
   "cell_type": "code",
   "execution_count": 91,
   "metadata": {},
   "outputs": [],
   "source": [
    "X_train_norm = normalize_data(X_train)\n",
    "X_test_norm = normalize_data(X_test)\n",
    "X_train_pca = X_train[:,0:6]\n",
    "X_test_pca = X_test[:,0:6]"
   ]
  },
  {
   "cell_type": "code",
   "execution_count": 92,
   "metadata": {},
   "outputs": [
    {
     "name": "stderr",
     "output_type": "stream",
     "text": [
      "/anaconda3/lib/python3.7/site-packages/ipykernel_launcher.py:3: DataConversionWarning: A column-vector y was passed when a 1d array was expected. Please change the shape of y to (n_samples,), for example using ravel().\n",
      "  This is separate from the ipykernel package so we can avoid doing imports until\n",
      "/anaconda3/lib/python3.7/site-packages/sklearn/utils/validation.py:578: DataConversionWarning: A column-vector y was passed when a 1d array was expected. Please change the shape of y to (n_samples, ), for example using ravel().\n",
      "  y = column_or_1d(y, warn=True)\n"
     ]
    }
   ],
   "source": [
    "y_random_forest_norm = random_forest(X_train_norm,y_train,X_test_norm)\n",
    "y_logistic_regression_norm = logistic_regression(X_train_norm,y_train,X_test_norm)\n",
    "y_logistic_regression_pca = logistic_regression(X_train_pca,y_train,X_test_pca)\n",
    "y_logistic_regression_norm_1 = logistic_regression_1(X_train_norm,y_train,X_test_norm)\n",
    "y_logistic_regression_pca_1 = logistic_regression_1(X_train_pca,y_train,X_test_pca)\n"
   ]
  },
  {
   "cell_type": "code",
   "execution_count": 95,
   "metadata": {},
   "outputs": [
    {
     "name": "stdout",
     "output_type": "stream",
     "text": [
      "0.7094017094017094\n",
      "0.7264957264957265\n",
      "0.7094017094017094\n",
      "0.7521367521367521\n",
      "-------\n",
      "0.7606837606837606\n",
      "*******\n",
      "0.7435897435897436\n",
      "-------\n",
      "0.7435897435897436\n"
     ]
    }
   ],
   "source": [
    "print(accuracy_score(y_test, y_random_forest_norm))\n",
    "print(accuracy_score(y_test, y_logistic_regression))\n",
    "print(accuracy_score(y_test, y_random_forest_norm))\n",
    "\n",
    "print(accuracy_score(y_test, y_logistic_regression_norm))\n",
    "print(\"-------\")\n",
    "print(accuracy_score(y_test, y_logistic_regression_pca))\n",
    "\n",
    "print(\"*******\")\n",
    "\n",
    "print(accuracy_score(y_test, y_logistic_regression_norm_1))\n",
    "print(\"-------\")\n",
    "print(accuracy_score(y_test, y_logistic_regression_pca_1))\n"
   ]
  },
  {
   "cell_type": "code",
   "execution_count": null,
   "metadata": {},
   "outputs": [],
   "source": [
    "clf = LogisticRegression(random_state=0, solver='lbfgs',multi_class='multinomial').fit(X, Y)\n",
    "\n",
    "random_forest(X,Y,test_in)"
   ]
  }
 ],
 "metadata": {
  "kernelspec": {
   "display_name": "Python 3",
   "language": "python",
   "name": "python3"
  },
  "language_info": {
   "codemirror_mode": {
    "name": "ipython",
    "version": 3
   },
   "file_extension": ".py",
   "mimetype": "text/x-python",
   "name": "python",
   "nbconvert_exporter": "python",
   "pygments_lexer": "ipython3",
   "version": "3.7.0"
  }
 },
 "nbformat": 4,
 "nbformat_minor": 2
}
